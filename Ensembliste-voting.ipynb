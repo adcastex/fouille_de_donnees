{
  "cells": [
    {
      "cell_type": "code",
      "execution_count": 1,
      "metadata": {
        "id": "kpsoCr-_APGD"
      },
      "outputs": [],
      "source": [
        "import numpy as np\n",
        "import pandas as pd\n",
        "import os\n",
        "pd.set_option('display.max_columns', None)"
      ]
    },
    {
      "cell_type": "code",
      "execution_count": 2,
      "metadata": {
        "id": "Q4xVljM-AoHg"
      },
      "outputs": [],
      "source": [
        "PATH = 'guillaume.txt'"
      ]
    },
    {
      "cell_type": "code",
      "execution_count": 3,
      "metadata": {
        "id": "OPiwaFMyArX0"
      },
      "outputs": [
        {
          "name": "stderr",
          "output_type": "stream",
          "text": [
            "C:\\Users\\Maurin\\AppData\\Local\\Temp\\ipykernel_24636\\789356330.py:1: DtypeWarning: Columns (1,2,3,5,6,7,8,9,10,11,12,13,14,15,16,17,18,19,20,21,22) have mixed types. Specify dtype option on import or set low_memory=False.\n",
            "  df=pd.read_csv(PATH,sep=\";\",decimal=\",\")\n"
          ]
        }
      ],
      "source": [
        "df=pd.read_csv(PATH,sep=\";\",decimal=\",\")"
      ]
    },
    {
      "cell_type": "code",
      "execution_count": 4,
      "metadata": {
        "id": "kmOvKpbeAwEG"
      },
      "outputs": [],
      "source": [
        "df.drop(columns=[\"CodeDecision\",\"ZIBZIN\"],inplace=True)"
      ]
    },
    {
      "cell_type": "code",
      "execution_count": 5,
      "metadata": {
        "id": "WBJdNROnA3ex"
      },
      "outputs": [],
      "source": [
        "# df"
      ]
    },
    {
      "cell_type": "code",
      "execution_count": 6,
      "metadata": {
        "id": "L_qeygIgA-Z2"
      },
      "outputs": [],
      "source": [
        "df.drop(1956360,inplace=True)"
      ]
    },
    {
      "cell_type": "code",
      "execution_count": 7,
      "metadata": {
        "id": "49BdVM-yBAy6"
      },
      "outputs": [],
      "source": [
        "df['DateTransaction'] = pd.to_datetime(df['DateTransaction'], yearfirst=True)\n",
        "\n",
        "# Création de trois nouvelles colonnes : Année, Mois, Jour\n",
        "df['Année'] = df['DateTransaction'].dt.year\n",
        "df['Mois'] = df['DateTransaction'].dt.month\n",
        "df['Jour'] = df['DateTransaction'].dt.day\n",
        "\n",
        "# # Création de trois nouvelles colonnes : Heure, Minute, Seconde\n",
        "df['Heure'] = df['DateTransaction'].dt.hour\n",
        "df['Minute'] = df['DateTransaction'].dt.minute\n",
        "df['Seconde'] = df['DateTransaction'].dt.second"
      ]
    },
    {
      "cell_type": "code",
      "execution_count": 8,
      "metadata": {
        "id": "X14D2l53BDyo"
      },
      "outputs": [
        {
          "data": {
            "text/plain": [
              "IDAvisAutorisationCheque               78643047\n",
              "FlagImpaye                                    0\n",
              "Montant                      54,289999999999999\n",
              "DateTransaction             2017-02-01 07:48:48\n",
              "VerifianceCPT1                                1\n",
              "VerifianceCPT2                                1\n",
              "VerifianceCPT3                                1\n",
              "D2CB                                        267\n",
              "ScoringFP1                                    0\n",
              "ScoringFP2                                    0\n",
              "ScoringFP3                                    0\n",
              "TauxImpNb_RB                 110,05692599620494\n",
              "TauxImpNB_CPM                53,554233554497365\n",
              "EcartNumCheq                                  0\n",
              "NbrMagasin3J                                  1\n",
              "DiffDateTr1                                   4\n",
              "DiffDateTr2                                   4\n",
              "DiffDateTr3                                   4\n",
              "CA3TRetMtt                   54,289999999999999\n",
              "CA3TR                                         0\n",
              "Heure                                         7\n",
              "Année                                      2017\n",
              "Mois                                          2\n",
              "Jour                                          1\n",
              "Minute                                       48\n",
              "Seconde                                      48\n",
              "Name: 1956361, dtype: object"
            ]
          },
          "execution_count": 8,
          "metadata": {},
          "output_type": "execute_result"
        }
      ],
      "source": [
        "df.iloc[1956360]"
      ]
    },
    {
      "cell_type": "code",
      "execution_count": 9,
      "metadata": {
        "id": "dAvJkCglBHAX"
      },
      "outputs": [],
      "source": [
        "y=df.FlagImpaye"
      ]
    },
    {
      "cell_type": "code",
      "execution_count": 10,
      "metadata": {
        "id": "u9yH27RYBKTD"
      },
      "outputs": [],
      "source": [
        "y=y.astype(int)"
      ]
    },
    {
      "cell_type": "code",
      "execution_count": 11,
      "metadata": {
        "id": "X-cZdp3nBMQ1"
      },
      "outputs": [],
      "source": [
        "df.drop(columns=[\"FlagImpaye\",\"DateTransaction\"],inplace=True)"
      ]
    },
    {
      "cell_type": "code",
      "execution_count": 12,
      "metadata": {
        "id": "iqpe0IdZBM8m"
      },
      "outputs": [],
      "source": [
        "df[\"ScoringFP1\"]=df[\"ScoringFP1\"].replace(',', '.', regex=True)\n",
        "df[\"ScoringFP2\"]=df[\"ScoringFP2\"].replace(',', '.', regex=True)\n",
        "df[\"ScoringFP3\"]=df[\"ScoringFP3\"].replace(',', '.', regex=True)\n",
        "df[\"Montant\"]=df[\"Montant\"].replace(',', '.', regex=True)\n",
        "df[\"TauxImpNb_RB\"]=df[\"TauxImpNb_RB\"].replace(',', '.', regex=True)\n",
        "df[\"TauxImpNB_CPM\"]=df[\"TauxImpNB_CPM\"].replace(',', '.', regex=True)\n",
        "df[\"DiffDateTr1\"]=df[\"DiffDateTr1\"].replace(',', '.', regex=True)\n",
        "df[\"DiffDateTr2\"]=df[\"DiffDateTr2\"].replace(',', '.', regex=True)\n",
        "df[\"DiffDateTr3\"]=df[\"DiffDateTr3\"].replace(',', '.', regex=True)\n",
        "df[\"CA3TRetMtt\"]=df[\"CA3TRetMtt\"].replace(',', '.', regex=True)\n",
        "df[\"CA3TR\"]=df[\"CA3TR\"].replace(',', '.', regex=True)"
      ]
    },
    {
      "cell_type": "code",
      "execution_count": 13,
      "metadata": {
        "id": "x2w37BLLOvkj"
      },
      "outputs": [],
      "source": [
        "df[\"ScoringFP1\"]=df[\"ScoringFP1\"].astype(float)\n",
        "df[\"ScoringFP2\"]=df[\"ScoringFP2\"].astype(float)\n",
        "df[\"ScoringFP3\"]=df[\"ScoringFP3\"].astype(float)\n",
        "df[\"Montant\"]=df[\"Montant\"].astype(float)\n",
        "df[\"TauxImpNb_RB\"]=df[\"TauxImpNb_RB\"].astype(float)\n",
        "df[\"TauxImpNB_CPM\"]=df[\"TauxImpNB_CPM\"].astype(float)\n",
        "df[\"DiffDateTr1\"]=df[\"DiffDateTr1\"].astype(float)\n",
        "df[\"DiffDateTr2\"]=df[\"DiffDateTr2\"].astype(float)\n",
        "df[\"DiffDateTr3\"]=df[\"DiffDateTr3\"].astype(float)\n",
        "df[\"CA3TRetMtt\"]=df[\"CA3TRetMtt\"].astype(float)\n",
        "df[\"CA3TR\"]=df[\"CA3TR\"].astype(float)\n",
        "df[\"VerifianceCPT1\"]=df[\"VerifianceCPT1\"].astype(bool)\n",
        "df[\"VerifianceCPT2\"]=df[\"VerifianceCPT2\"].astype(bool)\n",
        "df[\"VerifianceCPT3\"]=df[\"VerifianceCPT3\"].astype(bool)\n",
        "df[\"IDAvisAutorisationCheque\"]=df[\"IDAvisAutorisationCheque\"].astype(float)\n",
        "df[\"EcartNumCheq\"]=df[\"EcartNumCheq\"].astype(bool)\n",
        "df[\"NbrMagasin3J\"]=df[\"NbrMagasin3J\"].astype(bool)\n",
        "df[\"D2CB\"]=df[\"D2CB\"].astype(float)"
      ]
    },
    {
      "cell_type": "code",
      "execution_count": 14,
      "metadata": {},
      "outputs": [],
      "source": [
        "tmp=3899363"
      ]
    },
    {
      "cell_type": "code",
      "execution_count": 15,
      "metadata": {
        "id": "WuIxI9JnBSF0"
      },
      "outputs": [],
      "source": [
        "X_test=df.loc[df.index >= tmp]\n",
        "\n",
        "y_test=y.loc[y.index >= tmp]"
      ]
    },
    {
      "cell_type": "code",
      "execution_count": 16,
      "metadata": {
        "id": "n8o17A3pBs7M"
      },
      "outputs": [
        {
          "data": {
            "text/plain": [
              "FlagImpaye\n",
              "0    740838\n",
              "1      6573\n",
              "Name: count, dtype: int64"
            ]
          },
          "execution_count": 16,
          "metadata": {},
          "output_type": "execute_result"
        }
      ],
      "source": [
        "y_test.value_counts()"
      ]
    },
    {
      "cell_type": "markdown",
      "metadata": {},
      "source": [
        "## Sampling"
      ]
    },
    {
      "cell_type": "code",
      "execution_count": 17,
      "metadata": {},
      "outputs": [],
      "source": [
        "X_train=pd.read_csv(\"X.csv\")\n",
        "y_train=pd.read_csv(\"y.csv\")"
      ]
    },
    {
      "cell_type": "code",
      "execution_count": 18,
      "metadata": {},
      "outputs": [
        {
          "data": {
            "text/html": [
              "<div>\n",
              "<style scoped>\n",
              "    .dataframe tbody tr th:only-of-type {\n",
              "        vertical-align: middle;\n",
              "    }\n",
              "\n",
              "    .dataframe tbody tr th {\n",
              "        vertical-align: top;\n",
              "    }\n",
              "\n",
              "    .dataframe thead th {\n",
              "        text-align: right;\n",
              "    }\n",
              "</style>\n",
              "<table border=\"1\" class=\"dataframe\">\n",
              "  <thead>\n",
              "    <tr style=\"text-align: right;\">\n",
              "      <th></th>\n",
              "      <th>Unnamed: 0</th>\n",
              "      <th>IDAvisAutorisationCheque</th>\n",
              "      <th>Montant</th>\n",
              "      <th>VerifianceCPT1</th>\n",
              "      <th>VerifianceCPT2</th>\n",
              "      <th>VerifianceCPT3</th>\n",
              "      <th>D2CB</th>\n",
              "      <th>ScoringFP1</th>\n",
              "      <th>ScoringFP2</th>\n",
              "      <th>ScoringFP3</th>\n",
              "      <th>TauxImpNb_RB</th>\n",
              "      <th>TauxImpNB_CPM</th>\n",
              "      <th>EcartNumCheq</th>\n",
              "      <th>NbrMagasin3J</th>\n",
              "      <th>DiffDateTr1</th>\n",
              "      <th>DiffDateTr2</th>\n",
              "      <th>DiffDateTr3</th>\n",
              "      <th>CA3TRetMtt</th>\n",
              "      <th>CA3TR</th>\n",
              "      <th>Heure</th>\n",
              "      <th>Année</th>\n",
              "      <th>Mois</th>\n",
              "      <th>Jour</th>\n",
              "      <th>Minute</th>\n",
              "      <th>Seconde</th>\n",
              "    </tr>\n",
              "  </thead>\n",
              "  <tbody>\n",
              "    <tr>\n",
              "      <th>0</th>\n",
              "      <td>0</td>\n",
              "      <td>7.864304e+07</td>\n",
              "      <td>20.000000</td>\n",
              "      <td>0.00000</td>\n",
              "      <td>0.00000</td>\n",
              "      <td>0.00000</td>\n",
              "      <td>551.000000</td>\n",
              "      <td>0.000000</td>\n",
              "      <td>0.000000</td>\n",
              "      <td>0.000000</td>\n",
              "      <td>37.186668</td>\n",
              "      <td>52.076034</td>\n",
              "      <td>0.00000</td>\n",
              "      <td>1.0</td>\n",
              "      <td>4.000000</td>\n",
              "      <td>4.0</td>\n",
              "      <td>4.0</td>\n",
              "      <td>20.000000</td>\n",
              "      <td>0.000000</td>\n",
              "      <td>7</td>\n",
              "      <td>2017</td>\n",
              "      <td>2</td>\n",
              "      <td>1</td>\n",
              "      <td>32</td>\n",
              "      <td>14</td>\n",
              "    </tr>\n",
              "    <tr>\n",
              "      <th>1</th>\n",
              "      <td>1</td>\n",
              "      <td>7.864305e+07</td>\n",
              "      <td>57.640000</td>\n",
              "      <td>0.00000</td>\n",
              "      <td>0.00000</td>\n",
              "      <td>0.00000</td>\n",
              "      <td>549.000000</td>\n",
              "      <td>0.000000</td>\n",
              "      <td>0.000000</td>\n",
              "      <td>0.000000</td>\n",
              "      <td>73.118280</td>\n",
              "      <td>52.076034</td>\n",
              "      <td>0.00000</td>\n",
              "      <td>1.0</td>\n",
              "      <td>4.000000</td>\n",
              "      <td>4.0</td>\n",
              "      <td>4.0</td>\n",
              "      <td>57.640000</td>\n",
              "      <td>0.000000</td>\n",
              "      <td>7</td>\n",
              "      <td>2017</td>\n",
              "      <td>2</td>\n",
              "      <td>1</td>\n",
              "      <td>47</td>\n",
              "      <td>38</td>\n",
              "    </tr>\n",
              "    <tr>\n",
              "      <th>2</th>\n",
              "      <td>2</td>\n",
              "      <td>7.864305e+07</td>\n",
              "      <td>26.900000</td>\n",
              "      <td>0.00000</td>\n",
              "      <td>0.00000</td>\n",
              "      <td>0.00000</td>\n",
              "      <td>549.000000</td>\n",
              "      <td>0.003769</td>\n",
              "      <td>8.586333</td>\n",
              "      <td>0.001192</td>\n",
              "      <td>45.368313</td>\n",
              "      <td>52.076034</td>\n",
              "      <td>1.00000</td>\n",
              "      <td>1.0</td>\n",
              "      <td>1.997106</td>\n",
              "      <td>4.0</td>\n",
              "      <td>4.0</td>\n",
              "      <td>59.150000</td>\n",
              "      <td>32.250000</td>\n",
              "      <td>8</td>\n",
              "      <td>2017</td>\n",
              "      <td>2</td>\n",
              "      <td>1</td>\n",
              "      <td>13</td>\n",
              "      <td>27</td>\n",
              "    </tr>\n",
              "    <tr>\n",
              "      <th>3</th>\n",
              "      <td>3</td>\n",
              "      <td>7.864305e+07</td>\n",
              "      <td>42.510000</td>\n",
              "      <td>0.00000</td>\n",
              "      <td>0.00000</td>\n",
              "      <td>0.00000</td>\n",
              "      <td>523.000000</td>\n",
              "      <td>0.000000</td>\n",
              "      <td>0.000000</td>\n",
              "      <td>0.000000</td>\n",
              "      <td>24.223058</td>\n",
              "      <td>27.448962</td>\n",
              "      <td>0.00000</td>\n",
              "      <td>1.0</td>\n",
              "      <td>4.000000</td>\n",
              "      <td>4.0</td>\n",
              "      <td>4.0</td>\n",
              "      <td>42.510000</td>\n",
              "      <td>0.000000</td>\n",
              "      <td>8</td>\n",
              "      <td>2017</td>\n",
              "      <td>2</td>\n",
              "      <td>1</td>\n",
              "      <td>13</td>\n",
              "      <td>53</td>\n",
              "    </tr>\n",
              "    <tr>\n",
              "      <th>4</th>\n",
              "      <td>4</td>\n",
              "      <td>7.864305e+07</td>\n",
              "      <td>50.840000</td>\n",
              "      <td>0.00000</td>\n",
              "      <td>0.00000</td>\n",
              "      <td>0.00000</td>\n",
              "      <td>551.000000</td>\n",
              "      <td>0.006151</td>\n",
              "      <td>12.929167</td>\n",
              "      <td>0.001146</td>\n",
              "      <td>44.775178</td>\n",
              "      <td>52.076034</td>\n",
              "      <td>0.00000</td>\n",
              "      <td>1.0</td>\n",
              "      <td>4.000000</td>\n",
              "      <td>4.0</td>\n",
              "      <td>4.0</td>\n",
              "      <td>50.840000</td>\n",
              "      <td>0.000000</td>\n",
              "      <td>8</td>\n",
              "      <td>2017</td>\n",
              "      <td>2</td>\n",
              "      <td>1</td>\n",
              "      <td>18</td>\n",
              "      <td>24</td>\n",
              "    </tr>\n",
              "    <tr>\n",
              "      <th>...</th>\n",
              "      <td>...</td>\n",
              "      <td>...</td>\n",
              "      <td>...</td>\n",
              "      <td>...</td>\n",
              "      <td>...</td>\n",
              "      <td>...</td>\n",
              "      <td>...</td>\n",
              "      <td>...</td>\n",
              "      <td>...</td>\n",
              "      <td>...</td>\n",
              "      <td>...</td>\n",
              "      <td>...</td>\n",
              "      <td>...</td>\n",
              "      <td>...</td>\n",
              "      <td>...</td>\n",
              "      <td>...</td>\n",
              "      <td>...</td>\n",
              "      <td>...</td>\n",
              "      <td>...</td>\n",
              "      <td>...</td>\n",
              "      <td>...</td>\n",
              "      <td>...</td>\n",
              "      <td>...</td>\n",
              "      <td>...</td>\n",
              "      <td>...</td>\n",
              "    </tr>\n",
              "    <tr>\n",
              "      <th>3794415</th>\n",
              "      <td>3794415</td>\n",
              "      <td>8.062027e+07</td>\n",
              "      <td>24.419156</td>\n",
              "      <td>0.00000</td>\n",
              "      <td>0.00000</td>\n",
              "      <td>0.00000</td>\n",
              "      <td>548.209313</td>\n",
              "      <td>0.000529</td>\n",
              "      <td>0.477888</td>\n",
              "      <td>0.000118</td>\n",
              "      <td>38.297261</td>\n",
              "      <td>33.569237</td>\n",
              "      <td>0.00000</td>\n",
              "      <td>1.0</td>\n",
              "      <td>4.000000</td>\n",
              "      <td>4.0</td>\n",
              "      <td>4.0</td>\n",
              "      <td>24.419156</td>\n",
              "      <td>0.000000</td>\n",
              "      <td>10</td>\n",
              "      <td>2017</td>\n",
              "      <td>5</td>\n",
              "      <td>5</td>\n",
              "      <td>46</td>\n",
              "      <td>36</td>\n",
              "    </tr>\n",
              "    <tr>\n",
              "      <th>3794416</th>\n",
              "      <td>3794416</td>\n",
              "      <td>8.060801e+07</td>\n",
              "      <td>158.084358</td>\n",
              "      <td>0.00000</td>\n",
              "      <td>0.00000</td>\n",
              "      <td>0.00000</td>\n",
              "      <td>541.134584</td>\n",
              "      <td>0.018997</td>\n",
              "      <td>-1.196201</td>\n",
              "      <td>0.001678</td>\n",
              "      <td>25.063178</td>\n",
              "      <td>22.589443</td>\n",
              "      <td>0.00000</td>\n",
              "      <td>1.0</td>\n",
              "      <td>4.000000</td>\n",
              "      <td>4.0</td>\n",
              "      <td>4.0</td>\n",
              "      <td>158.084358</td>\n",
              "      <td>0.000000</td>\n",
              "      <td>16</td>\n",
              "      <td>2017</td>\n",
              "      <td>5</td>\n",
              "      <td>4</td>\n",
              "      <td>41</td>\n",
              "      <td>9</td>\n",
              "    </tr>\n",
              "    <tr>\n",
              "      <th>3794417</th>\n",
              "      <td>3794417</td>\n",
              "      <td>8.022310e+07</td>\n",
              "      <td>78.270000</td>\n",
              "      <td>1.87849</td>\n",
              "      <td>1.87849</td>\n",
              "      <td>2.87849</td>\n",
              "      <td>544.000000</td>\n",
              "      <td>0.004796</td>\n",
              "      <td>-24.953633</td>\n",
              "      <td>0.001698</td>\n",
              "      <td>55.675249</td>\n",
              "      <td>36.813027</td>\n",
              "      <td>0.87849</td>\n",
              "      <td>1.0</td>\n",
              "      <td>0.489142</td>\n",
              "      <td>4.0</td>\n",
              "      <td>4.0</td>\n",
              "      <td>147.029388</td>\n",
              "      <td>68.759388</td>\n",
              "      <td>19</td>\n",
              "      <td>2017</td>\n",
              "      <td>4</td>\n",
              "      <td>15</td>\n",
              "      <td>26</td>\n",
              "      <td>31</td>\n",
              "    </tr>\n",
              "    <tr>\n",
              "      <th>3794418</th>\n",
              "      <td>3794418</td>\n",
              "      <td>8.060818e+07</td>\n",
              "      <td>78.271596</td>\n",
              "      <td>0.00000</td>\n",
              "      <td>0.00000</td>\n",
              "      <td>0.00000</td>\n",
              "      <td>538.160222</td>\n",
              "      <td>0.007712</td>\n",
              "      <td>5.853265</td>\n",
              "      <td>0.001298</td>\n",
              "      <td>45.368313</td>\n",
              "      <td>52.076034</td>\n",
              "      <td>0.00000</td>\n",
              "      <td>1.0</td>\n",
              "      <td>4.000000</td>\n",
              "      <td>4.0</td>\n",
              "      <td>4.0</td>\n",
              "      <td>78.271596</td>\n",
              "      <td>0.000000</td>\n",
              "      <td>16</td>\n",
              "      <td>2017</td>\n",
              "      <td>5</td>\n",
              "      <td>4</td>\n",
              "      <td>45</td>\n",
              "      <td>38</td>\n",
              "    </tr>\n",
              "    <tr>\n",
              "      <th>3794419</th>\n",
              "      <td>3794419</td>\n",
              "      <td>8.061760e+07</td>\n",
              "      <td>111.227738</td>\n",
              "      <td>0.00000</td>\n",
              "      <td>0.00000</td>\n",
              "      <td>0.00000</td>\n",
              "      <td>547.978463</td>\n",
              "      <td>0.008138</td>\n",
              "      <td>25.526844</td>\n",
              "      <td>0.001086</td>\n",
              "      <td>37.228994</td>\n",
              "      <td>50.203922</td>\n",
              "      <td>0.00000</td>\n",
              "      <td>1.0</td>\n",
              "      <td>4.000000</td>\n",
              "      <td>4.0</td>\n",
              "      <td>4.0</td>\n",
              "      <td>111.227738</td>\n",
              "      <td>0.000000</td>\n",
              "      <td>10</td>\n",
              "      <td>2017</td>\n",
              "      <td>5</td>\n",
              "      <td>5</td>\n",
              "      <td>0</td>\n",
              "      <td>27</td>\n",
              "    </tr>\n",
              "  </tbody>\n",
              "</table>\n",
              "<p>3794420 rows × 25 columns</p>\n",
              "</div>"
            ],
            "text/plain": [
              "         Unnamed: 0  IDAvisAutorisationCheque     Montant  VerifianceCPT1  \\\n",
              "0                 0              7.864304e+07   20.000000         0.00000   \n",
              "1                 1              7.864305e+07   57.640000         0.00000   \n",
              "2                 2              7.864305e+07   26.900000         0.00000   \n",
              "3                 3              7.864305e+07   42.510000         0.00000   \n",
              "4                 4              7.864305e+07   50.840000         0.00000   \n",
              "...             ...                       ...         ...             ...   \n",
              "3794415     3794415              8.062027e+07   24.419156         0.00000   \n",
              "3794416     3794416              8.060801e+07  158.084358         0.00000   \n",
              "3794417     3794417              8.022310e+07   78.270000         1.87849   \n",
              "3794418     3794418              8.060818e+07   78.271596         0.00000   \n",
              "3794419     3794419              8.061760e+07  111.227738         0.00000   \n",
              "\n",
              "         VerifianceCPT2  VerifianceCPT3        D2CB  ScoringFP1  ScoringFP2  \\\n",
              "0               0.00000         0.00000  551.000000    0.000000    0.000000   \n",
              "1               0.00000         0.00000  549.000000    0.000000    0.000000   \n",
              "2               0.00000         0.00000  549.000000    0.003769    8.586333   \n",
              "3               0.00000         0.00000  523.000000    0.000000    0.000000   \n",
              "4               0.00000         0.00000  551.000000    0.006151   12.929167   \n",
              "...                 ...             ...         ...         ...         ...   \n",
              "3794415         0.00000         0.00000  548.209313    0.000529    0.477888   \n",
              "3794416         0.00000         0.00000  541.134584    0.018997   -1.196201   \n",
              "3794417         1.87849         2.87849  544.000000    0.004796  -24.953633   \n",
              "3794418         0.00000         0.00000  538.160222    0.007712    5.853265   \n",
              "3794419         0.00000         0.00000  547.978463    0.008138   25.526844   \n",
              "\n",
              "         ScoringFP3  TauxImpNb_RB  TauxImpNB_CPM  EcartNumCheq  NbrMagasin3J  \\\n",
              "0          0.000000     37.186668      52.076034       0.00000           1.0   \n",
              "1          0.000000     73.118280      52.076034       0.00000           1.0   \n",
              "2          0.001192     45.368313      52.076034       1.00000           1.0   \n",
              "3          0.000000     24.223058      27.448962       0.00000           1.0   \n",
              "4          0.001146     44.775178      52.076034       0.00000           1.0   \n",
              "...             ...           ...            ...           ...           ...   \n",
              "3794415    0.000118     38.297261      33.569237       0.00000           1.0   \n",
              "3794416    0.001678     25.063178      22.589443       0.00000           1.0   \n",
              "3794417    0.001698     55.675249      36.813027       0.87849           1.0   \n",
              "3794418    0.001298     45.368313      52.076034       0.00000           1.0   \n",
              "3794419    0.001086     37.228994      50.203922       0.00000           1.0   \n",
              "\n",
              "         DiffDateTr1  DiffDateTr2  DiffDateTr3  CA3TRetMtt      CA3TR  Heure  \\\n",
              "0           4.000000          4.0          4.0   20.000000   0.000000      7   \n",
              "1           4.000000          4.0          4.0   57.640000   0.000000      7   \n",
              "2           1.997106          4.0          4.0   59.150000  32.250000      8   \n",
              "3           4.000000          4.0          4.0   42.510000   0.000000      8   \n",
              "4           4.000000          4.0          4.0   50.840000   0.000000      8   \n",
              "...              ...          ...          ...         ...        ...    ...   \n",
              "3794415     4.000000          4.0          4.0   24.419156   0.000000     10   \n",
              "3794416     4.000000          4.0          4.0  158.084358   0.000000     16   \n",
              "3794417     0.489142          4.0          4.0  147.029388  68.759388     19   \n",
              "3794418     4.000000          4.0          4.0   78.271596   0.000000     16   \n",
              "3794419     4.000000          4.0          4.0  111.227738   0.000000     10   \n",
              "\n",
              "         Année  Mois  Jour  Minute  Seconde  \n",
              "0         2017     2     1      32       14  \n",
              "1         2017     2     1      47       38  \n",
              "2         2017     2     1      13       27  \n",
              "3         2017     2     1      13       53  \n",
              "4         2017     2     1      18       24  \n",
              "...        ...   ...   ...     ...      ...  \n",
              "3794415   2017     5     5      46       36  \n",
              "3794416   2017     5     4      41        9  \n",
              "3794417   2017     4    15      26       31  \n",
              "3794418   2017     5     4      45       38  \n",
              "3794419   2017     5     5       0       27  \n",
              "\n",
              "[3794420 rows x 25 columns]"
            ]
          },
          "execution_count": 18,
          "metadata": {},
          "output_type": "execute_result"
        }
      ],
      "source": [
        "X_train"
      ]
    },
    {
      "cell_type": "code",
      "execution_count": 19,
      "metadata": {},
      "outputs": [],
      "source": [
        "X_train.drop(columns=[\"Unnamed: 0\"],inplace=True)\n",
        "y_train.drop(columns=[\"Unnamed: 0\"],inplace=True)"
      ]
    },
    {
      "cell_type": "code",
      "execution_count": 20,
      "metadata": {},
      "outputs": [
        {
          "data": {
            "text/plain": [
              "FlagImpaye\n",
              "False         3772495\n",
              "True            21925\n",
              "Name: count, dtype: int64"
            ]
          },
          "execution_count": 20,
          "metadata": {},
          "output_type": "execute_result"
        }
      ],
      "source": [
        "y_train.value_counts()"
      ]
    },
    {
      "cell_type": "code",
      "execution_count": 21,
      "metadata": {},
      "outputs": [
        {
          "data": {
            "text/plain": [
              "FlagImpaye\n",
              "0    740838\n",
              "1      6573\n",
              "Name: count, dtype: int64"
            ]
          },
          "execution_count": 21,
          "metadata": {},
          "output_type": "execute_result"
        }
      ],
      "source": [
        "y_test.value_counts()"
      ]
    },
    {
      "cell_type": "markdown",
      "metadata": {
        "id": "wFkWxV_yCF9r"
      },
      "source": [
        "## ML Voting - combinaison de plusieurs algo classificatiion"
      ]
    },
    {
      "cell_type": "code",
      "execution_count": 31,
      "metadata": {},
      "outputs": [],
      "source": [
        "\n",
        "\n",
        "from sklearn.datasets import make_classification\n",
        "from sklearn.ensemble import VotingClassifier\n",
        "from sklearn.neighbors import KNeighborsClassifier\n",
        "\n",
        "models = list()\n",
        "models.append(('knn1', KNeighborsClassifier(n_neighbors=1)))\n",
        "models.append(('knn3', KNeighborsClassifier(n_neighbors=3)))\n",
        "models.append(('knn5', KNeighborsClassifier(n_neighbors=5)))\n",
        "\n",
        "\n",
        "ensemble = VotingClassifier(estimators=models, voting='hard')\n",
        "\n",
        "ensemble.fit(X_train, y_train.values.ravel())\n",
        "\n",
        "yp = ensemble.predict(X_test)\n"
      ]
    },
    {
      "cell_type": "code",
      "execution_count": 28,
      "metadata": {},
      "outputs": [
        {
          "name": "stdout",
          "output_type": "stream",
          "text": [
            "0.0\n"
          ]
        }
      ],
      "source": [
        "from sklearn.metrics import f1_score\n",
        "\n",
        "f1 = f1_score(y_test, yp)\n",
        "print(f1)"
      ]
    },
    {
      "cell_type": "code",
      "execution_count": 29,
      "metadata": {},
      "outputs": [
        {
          "data": {
            "text/html": [
              "<div>\n",
              "<style scoped>\n",
              "    .dataframe tbody tr th:only-of-type {\n",
              "        vertical-align: middle;\n",
              "    }\n",
              "\n",
              "    .dataframe tbody tr th {\n",
              "        vertical-align: top;\n",
              "    }\n",
              "\n",
              "    .dataframe thead th {\n",
              "        text-align: right;\n",
              "    }\n",
              "</style>\n",
              "<table border=\"1\" class=\"dataframe\">\n",
              "  <thead>\n",
              "    <tr style=\"text-align: right;\">\n",
              "      <th>col_0</th>\n",
              "      <th>False</th>\n",
              "    </tr>\n",
              "    <tr>\n",
              "      <th>FlagImpaye</th>\n",
              "      <th></th>\n",
              "    </tr>\n",
              "  </thead>\n",
              "  <tbody>\n",
              "    <tr>\n",
              "      <th>0</th>\n",
              "      <td>740838</td>\n",
              "    </tr>\n",
              "    <tr>\n",
              "      <th>1</th>\n",
              "      <td>6573</td>\n",
              "    </tr>\n",
              "  </tbody>\n",
              "</table>\n",
              "</div>"
            ],
            "text/plain": [
              "col_0        False\n",
              "FlagImpaye        \n",
              "0           740838\n",
              "1             6573"
            ]
          },
          "execution_count": 29,
          "metadata": {},
          "output_type": "execute_result"
        }
      ],
      "source": [
        "pd.crosstab(y_test, yp)"
      ]
    }
  ],
  "metadata": {
    "colab": {
      "provenance": []
    },
    "kernelspec": {
      "display_name": "Python 3",
      "name": "python3"
    },
    "language_info": {
      "codemirror_mode": {
        "name": "ipython",
        "version": 3
      },
      "file_extension": ".py",
      "mimetype": "text/x-python",
      "name": "python",
      "nbconvert_exporter": "python",
      "pygments_lexer": "ipython3",
      "version": "3.12.0"
    }
  },
  "nbformat": 4,
  "nbformat_minor": 0
}
