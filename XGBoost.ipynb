{
  "cells": [
    {
      "cell_type": "code",
      "execution_count": 5,
      "metadata": {
        "id": "kpsoCr-_APGD"
      },
      "outputs": [],
      "source": [
        "import numpy as np\n",
        "import pandas as pd\n",
        "import os\n",
        "pd.set_option('display.max_columns', None)"
      ]
    },
    {
      "cell_type": "code",
      "execution_count": 6,
      "metadata": {
        "id": "Q4xVljM-AoHg"
      },
      "outputs": [],
      "source": [
        "PATH = 'guillaume.txt'"
      ]
    },
    {
      "cell_type": "code",
      "execution_count": 7,
      "metadata": {
        "id": "OPiwaFMyArX0"
      },
      "outputs": [
        {
          "name": "stderr",
          "output_type": "stream",
          "text": [
            "/var/folders/v_/8q_kjpjn7q9b52tdp8pr3wmm0000gn/T/ipykernel_48808/789356330.py:1: DtypeWarning: Columns (1,2,3,5,6,7,8,9,10,11,12,13,14,15,16,17,18,19,20,21,22) have mixed types. Specify dtype option on import or set low_memory=False.\n",
            "  df=pd.read_csv(PATH,sep=\";\",decimal=\",\")\n"
          ]
        }
      ],
      "source": [
        "df=pd.read_csv(PATH,sep=\";\",decimal=\",\")"
      ]
    },
    {
      "cell_type": "code",
      "execution_count": 8,
      "metadata": {
        "id": "kmOvKpbeAwEG"
      },
      "outputs": [],
      "source": [
        "df.drop(columns=[\"CodeDecision\",\"ZIBZIN\"],inplace=True)"
      ]
    },
    {
      "cell_type": "code",
      "execution_count": 9,
      "metadata": {
        "id": "WBJdNROnA3ex"
      },
      "outputs": [
        {
          "data": {
            "text/html": [
              "<div>\n",
              "<style scoped>\n",
              "    .dataframe tbody tr th:only-of-type {\n",
              "        vertical-align: middle;\n",
              "    }\n",
              "\n",
              "    .dataframe tbody tr th {\n",
              "        vertical-align: top;\n",
              "    }\n",
              "\n",
              "    .dataframe thead th {\n",
              "        text-align: right;\n",
              "    }\n",
              "</style>\n",
              "<table border=\"1\" class=\"dataframe\">\n",
              "  <thead>\n",
              "    <tr style=\"text-align: right;\">\n",
              "      <th></th>\n",
              "      <th>IDAvisAutorisationCheque</th>\n",
              "      <th>FlagImpaye</th>\n",
              "      <th>Montant</th>\n",
              "      <th>DateTransaction</th>\n",
              "      <th>VerifianceCPT1</th>\n",
              "      <th>VerifianceCPT2</th>\n",
              "      <th>VerifianceCPT3</th>\n",
              "      <th>D2CB</th>\n",
              "      <th>ScoringFP1</th>\n",
              "      <th>ScoringFP2</th>\n",
              "      <th>ScoringFP3</th>\n",
              "      <th>TauxImpNb_RB</th>\n",
              "      <th>TauxImpNB_CPM</th>\n",
              "      <th>EcartNumCheq</th>\n",
              "      <th>NbrMagasin3J</th>\n",
              "      <th>DiffDateTr1</th>\n",
              "      <th>DiffDateTr2</th>\n",
              "      <th>DiffDateTr3</th>\n",
              "      <th>CA3TRetMtt</th>\n",
              "      <th>CA3TR</th>\n",
              "      <th>Heure</th>\n",
              "    </tr>\n",
              "  </thead>\n",
              "  <tbody>\n",
              "    <tr>\n",
              "      <th>0</th>\n",
              "      <td>78643044</td>\n",
              "      <td>0</td>\n",
              "      <td>20.0</td>\n",
              "      <td>2017-02-01 07:32:14</td>\n",
              "      <td>0</td>\n",
              "      <td>0</td>\n",
              "      <td>0</td>\n",
              "      <td>551</td>\n",
              "      <td>0.0</td>\n",
              "      <td>0.0</td>\n",
              "      <td>0.0</td>\n",
              "      <td>37.186668</td>\n",
              "      <td>52.076034</td>\n",
              "      <td>0</td>\n",
              "      <td>1</td>\n",
              "      <td>4.0</td>\n",
              "      <td>4.0</td>\n",
              "      <td>4.0</td>\n",
              "      <td>20.0</td>\n",
              "      <td>0.0</td>\n",
              "      <td>27134</td>\n",
              "    </tr>\n",
              "    <tr>\n",
              "      <th>1</th>\n",
              "      <td>78643045</td>\n",
              "      <td>0</td>\n",
              "      <td>20.0</td>\n",
              "      <td>2017-02-01 07:43:37</td>\n",
              "      <td>0</td>\n",
              "      <td>0</td>\n",
              "      <td>0</td>\n",
              "      <td>551</td>\n",
              "      <td>0.0</td>\n",
              "      <td>0.0</td>\n",
              "      <td>0.0</td>\n",
              "      <td>48.844716</td>\n",
              "      <td>52.076034</td>\n",
              "      <td>1</td>\n",
              "      <td>2</td>\n",
              "      <td>1.797685</td>\n",
              "      <td>4.0</td>\n",
              "      <td>4.0</td>\n",
              "      <td>28.61</td>\n",
              "      <td>8.61</td>\n",
              "      <td>27817</td>\n",
              "    </tr>\n",
              "    <tr>\n",
              "      <th>2</th>\n",
              "      <td>78643046</td>\n",
              "      <td>0</td>\n",
              "      <td>57.64</td>\n",
              "      <td>2017-02-01 07:47:38</td>\n",
              "      <td>0</td>\n",
              "      <td>0</td>\n",
              "      <td>0</td>\n",
              "      <td>549</td>\n",
              "      <td>0.0</td>\n",
              "      <td>0.0</td>\n",
              "      <td>0.0</td>\n",
              "      <td>73.11828</td>\n",
              "      <td>52.076034</td>\n",
              "      <td>0</td>\n",
              "      <td>1</td>\n",
              "      <td>4.0</td>\n",
              "      <td>4.0</td>\n",
              "      <td>4.0</td>\n",
              "      <td>57.64</td>\n",
              "      <td>0.0</td>\n",
              "      <td>28058</td>\n",
              "    </tr>\n",
              "    <tr>\n",
              "      <th>3</th>\n",
              "      <td>78643047</td>\n",
              "      <td>0</td>\n",
              "      <td>54.29</td>\n",
              "      <td>2017-02-01 07:48:48</td>\n",
              "      <td>1</td>\n",
              "      <td>1</td>\n",
              "      <td>1</td>\n",
              "      <td>267</td>\n",
              "      <td>0.0</td>\n",
              "      <td>0.0</td>\n",
              "      <td>0.0</td>\n",
              "      <td>110.056926</td>\n",
              "      <td>53.554234</td>\n",
              "      <td>0</td>\n",
              "      <td>1</td>\n",
              "      <td>4.0</td>\n",
              "      <td>4.0</td>\n",
              "      <td>4.0</td>\n",
              "      <td>54.29</td>\n",
              "      <td>0.0</td>\n",
              "      <td>28128</td>\n",
              "    </tr>\n",
              "    <tr>\n",
              "      <th>4</th>\n",
              "      <td>78643048</td>\n",
              "      <td>0</td>\n",
              "      <td>26.9</td>\n",
              "      <td>2017-02-01 08:13:27</td>\n",
              "      <td>0</td>\n",
              "      <td>0</td>\n",
              "      <td>0</td>\n",
              "      <td>549</td>\n",
              "      <td>0.003769</td>\n",
              "      <td>8.586333</td>\n",
              "      <td>0.001192</td>\n",
              "      <td>45.368313</td>\n",
              "      <td>52.076034</td>\n",
              "      <td>1</td>\n",
              "      <td>1</td>\n",
              "      <td>1.997106</td>\n",
              "      <td>4.0</td>\n",
              "      <td>4.0</td>\n",
              "      <td>59.15</td>\n",
              "      <td>32.25</td>\n",
              "      <td>29607</td>\n",
              "    </tr>\n",
              "    <tr>\n",
              "      <th>...</th>\n",
              "      <td>...</td>\n",
              "      <td>...</td>\n",
              "      <td>...</td>\n",
              "      <td>...</td>\n",
              "      <td>...</td>\n",
              "      <td>...</td>\n",
              "      <td>...</td>\n",
              "      <td>...</td>\n",
              "      <td>...</td>\n",
              "      <td>...</td>\n",
              "      <td>...</td>\n",
              "      <td>...</td>\n",
              "      <td>...</td>\n",
              "      <td>...</td>\n",
              "      <td>...</td>\n",
              "      <td>...</td>\n",
              "      <td>...</td>\n",
              "      <td>...</td>\n",
              "      <td>...</td>\n",
              "      <td>...</td>\n",
              "      <td>...</td>\n",
              "    </tr>\n",
              "    <tr>\n",
              "      <th>4646769</th>\n",
              "      <td>84966399</td>\n",
              "      <td>0</td>\n",
              "      <td>23.94</td>\n",
              "      <td>2017-11-30 21:20:15</td>\n",
              "      <td>0</td>\n",
              "      <td>0</td>\n",
              "      <td>0</td>\n",
              "      <td>1</td>\n",
              "      <td>4.788</td>\n",
              "      <td>-22.542614</td>\n",
              "      <td>1.970346</td>\n",
              "      <td>42.072631</td>\n",
              "      <td>43.030421</td>\n",
              "      <td>0</td>\n",
              "      <td>1</td>\n",
              "      <td>5.0</td>\n",
              "      <td>5.0</td>\n",
              "      <td>5.0</td>\n",
              "      <td>23.94</td>\n",
              "      <td>0.0</td>\n",
              "      <td>76815</td>\n",
              "    </tr>\n",
              "    <tr>\n",
              "      <th>4646770</th>\n",
              "      <td>84966400</td>\n",
              "      <td>0</td>\n",
              "      <td>92.6</td>\n",
              "      <td>2017-11-30 21:22:49</td>\n",
              "      <td>0</td>\n",
              "      <td>0</td>\n",
              "      <td>0</td>\n",
              "      <td>514</td>\n",
              "      <td>0.060052</td>\n",
              "      <td>-2.236379</td>\n",
              "      <td>0.003084</td>\n",
              "      <td>167.130919</td>\n",
              "      <td>36.813027</td>\n",
              "      <td>1</td>\n",
              "      <td>2</td>\n",
              "      <td>1.035949</td>\n",
              "      <td>4.0</td>\n",
              "      <td>4.0</td>\n",
              "      <td>262.45</td>\n",
              "      <td>169.85</td>\n",
              "      <td>76969</td>\n",
              "    </tr>\n",
              "    <tr>\n",
              "      <th>4646771</th>\n",
              "      <td>84966401</td>\n",
              "      <td>0</td>\n",
              "      <td>69.0</td>\n",
              "      <td>2017-11-30 21:24:37</td>\n",
              "      <td>0</td>\n",
              "      <td>0</td>\n",
              "      <td>0</td>\n",
              "      <td>1</td>\n",
              "      <td>3.631579</td>\n",
              "      <td>-1.062954</td>\n",
              "      <td>0.790971</td>\n",
              "      <td>72.607261</td>\n",
              "      <td>52.076034</td>\n",
              "      <td>0</td>\n",
              "      <td>1</td>\n",
              "      <td>5.0</td>\n",
              "      <td>5.0</td>\n",
              "      <td>5.0</td>\n",
              "      <td>69.0</td>\n",
              "      <td>0.0</td>\n",
              "      <td>77077</td>\n",
              "    </tr>\n",
              "    <tr>\n",
              "      <th>4646772</th>\n",
              "      <td>84966402</td>\n",
              "      <td>0</td>\n",
              "      <td>57.8</td>\n",
              "      <td>2017-11-30 21:57:32</td>\n",
              "      <td>0</td>\n",
              "      <td>0</td>\n",
              "      <td>0</td>\n",
              "      <td>1</td>\n",
              "      <td>28.9</td>\n",
              "      <td>0.567666</td>\n",
              "      <td>0.581925</td>\n",
              "      <td>31.880978</td>\n",
              "      <td>82.051282</td>\n",
              "      <td>0</td>\n",
              "      <td>1</td>\n",
              "      <td>5.0</td>\n",
              "      <td>5.0</td>\n",
              "      <td>5.0</td>\n",
              "      <td>57.8</td>\n",
              "      <td>0.0</td>\n",
              "      <td>79052</td>\n",
              "    </tr>\n",
              "    <tr>\n",
              "      <th>4646773</th>\n",
              "      <td>84966405</td>\n",
              "      <td>0</td>\n",
              "      <td>42.21</td>\n",
              "      <td>2017-11-30 22:07:13</td>\n",
              "      <td>0</td>\n",
              "      <td>0</td>\n",
              "      <td>0</td>\n",
              "      <td>461</td>\n",
              "      <td>0.004578</td>\n",
              "      <td>-26.658799</td>\n",
              "      <td>0.002055</td>\n",
              "      <td>45.368313</td>\n",
              "      <td>52.076034</td>\n",
              "      <td>0</td>\n",
              "      <td>1</td>\n",
              "      <td>4.0</td>\n",
              "      <td>4.0</td>\n",
              "      <td>4.0</td>\n",
              "      <td>42.21</td>\n",
              "      <td>0.0</td>\n",
              "      <td>79633</td>\n",
              "    </tr>\n",
              "  </tbody>\n",
              "</table>\n",
              "<p>4646774 rows × 21 columns</p>\n",
              "</div>"
            ],
            "text/plain": [
              "        IDAvisAutorisationCheque FlagImpaye Montant      DateTransaction  \\\n",
              "0                       78643044          0    20.0  2017-02-01 07:32:14   \n",
              "1                       78643045          0    20.0  2017-02-01 07:43:37   \n",
              "2                       78643046          0   57.64  2017-02-01 07:47:38   \n",
              "3                       78643047          0   54.29  2017-02-01 07:48:48   \n",
              "4                       78643048          0    26.9  2017-02-01 08:13:27   \n",
              "...                          ...        ...     ...                  ...   \n",
              "4646769                 84966399          0   23.94  2017-11-30 21:20:15   \n",
              "4646770                 84966400          0    92.6  2017-11-30 21:22:49   \n",
              "4646771                 84966401          0    69.0  2017-11-30 21:24:37   \n",
              "4646772                 84966402          0    57.8  2017-11-30 21:57:32   \n",
              "4646773                 84966405          0   42.21  2017-11-30 22:07:13   \n",
              "\n",
              "        VerifianceCPT1 VerifianceCPT2 VerifianceCPT3 D2CB ScoringFP1  \\\n",
              "0                    0              0              0  551        0.0   \n",
              "1                    0              0              0  551        0.0   \n",
              "2                    0              0              0  549        0.0   \n",
              "3                    1              1              1  267        0.0   \n",
              "4                    0              0              0  549   0.003769   \n",
              "...                ...            ...            ...  ...        ...   \n",
              "4646769              0              0              0    1      4.788   \n",
              "4646770              0              0              0  514   0.060052   \n",
              "4646771              0              0              0    1   3.631579   \n",
              "4646772              0              0              0    1       28.9   \n",
              "4646773              0              0              0  461   0.004578   \n",
              "\n",
              "        ScoringFP2 ScoringFP3 TauxImpNb_RB TauxImpNB_CPM EcartNumCheq  \\\n",
              "0              0.0        0.0    37.186668     52.076034            0   \n",
              "1              0.0        0.0    48.844716     52.076034            1   \n",
              "2              0.0        0.0     73.11828     52.076034            0   \n",
              "3              0.0        0.0   110.056926     53.554234            0   \n",
              "4         8.586333   0.001192    45.368313     52.076034            1   \n",
              "...            ...        ...          ...           ...          ...   \n",
              "4646769 -22.542614   1.970346    42.072631     43.030421            0   \n",
              "4646770  -2.236379   0.003084   167.130919     36.813027            1   \n",
              "4646771  -1.062954   0.790971    72.607261     52.076034            0   \n",
              "4646772   0.567666   0.581925    31.880978     82.051282            0   \n",
              "4646773 -26.658799   0.002055    45.368313     52.076034            0   \n",
              "\n",
              "        NbrMagasin3J DiffDateTr1 DiffDateTr2 DiffDateTr3 CA3TRetMtt   CA3TR  \\\n",
              "0                  1         4.0         4.0         4.0       20.0     0.0   \n",
              "1                  2    1.797685         4.0         4.0      28.61    8.61   \n",
              "2                  1         4.0         4.0         4.0      57.64     0.0   \n",
              "3                  1         4.0         4.0         4.0      54.29     0.0   \n",
              "4                  1    1.997106         4.0         4.0      59.15   32.25   \n",
              "...              ...         ...         ...         ...        ...     ...   \n",
              "4646769            1         5.0         5.0         5.0      23.94     0.0   \n",
              "4646770            2    1.035949         4.0         4.0     262.45  169.85   \n",
              "4646771            1         5.0         5.0         5.0       69.0     0.0   \n",
              "4646772            1         5.0         5.0         5.0       57.8     0.0   \n",
              "4646773            1         4.0         4.0         4.0      42.21     0.0   \n",
              "\n",
              "         Heure  \n",
              "0        27134  \n",
              "1        27817  \n",
              "2        28058  \n",
              "3        28128  \n",
              "4        29607  \n",
              "...        ...  \n",
              "4646769  76815  \n",
              "4646770  76969  \n",
              "4646771  77077  \n",
              "4646772  79052  \n",
              "4646773  79633  \n",
              "\n",
              "[4646774 rows x 21 columns]"
            ]
          },
          "execution_count": 9,
          "metadata": {},
          "output_type": "execute_result"
        }
      ],
      "source": [
        "df"
      ]
    },
    {
      "cell_type": "code",
      "execution_count": 10,
      "metadata": {
        "id": "L_qeygIgA-Z2"
      },
      "outputs": [],
      "source": [
        "df.drop(1956360,inplace=True)"
      ]
    },
    {
      "cell_type": "code",
      "execution_count": 11,
      "metadata": {
        "id": "49BdVM-yBAy6"
      },
      "outputs": [],
      "source": [
        "df['DateTransaction'] = pd.to_datetime(df['DateTransaction'], yearfirst=True)\n",
        "\n",
        "# Création de trois nouvelles colonnes : Année, Mois, Jour\n",
        "df['Année'] = df['DateTransaction'].dt.year\n",
        "df['Mois'] = df['DateTransaction'].dt.month\n",
        "df['Jour'] = df['DateTransaction'].dt.day\n",
        "\n",
        "# Création de trois nouvelles colonnes : Heure, Minute, Seconde\n",
        "df['Heure'] = df['DateTransaction'].dt.hour\n",
        "df['Minute'] = df['DateTransaction'].dt.minute\n",
        "df['Seconde'] = df['DateTransaction'].dt.second"
      ]
    },
    {
      "cell_type": "code",
      "execution_count": 12,
      "metadata": {
        "id": "X14D2l53BDyo"
      },
      "outputs": [
        {
          "data": {
            "text/plain": [
              "IDAvisAutorisationCheque               78643047\n",
              "FlagImpaye                                    0\n",
              "Montant                      54,289999999999999\n",
              "DateTransaction             2017-02-01 07:48:48\n",
              "VerifianceCPT1                                1\n",
              "VerifianceCPT2                                1\n",
              "VerifianceCPT3                                1\n",
              "D2CB                                        267\n",
              "ScoringFP1                                    0\n",
              "ScoringFP2                                    0\n",
              "ScoringFP3                                    0\n",
              "TauxImpNb_RB                 110,05692599620494\n",
              "TauxImpNB_CPM                53,554233554497365\n",
              "EcartNumCheq                                  0\n",
              "NbrMagasin3J                                  1\n",
              "DiffDateTr1                                   4\n",
              "DiffDateTr2                                   4\n",
              "DiffDateTr3                                   4\n",
              "CA3TRetMtt                   54,289999999999999\n",
              "CA3TR                                         0\n",
              "Heure                                         7\n",
              "Année                                      2017\n",
              "Mois                                          2\n",
              "Jour                                          1\n",
              "Minute                                       48\n",
              "Seconde                                      48\n",
              "Name: 1956361, dtype: object"
            ]
          },
          "execution_count": 12,
          "metadata": {},
          "output_type": "execute_result"
        }
      ],
      "source": [
        "df.iloc[1956360]"
      ]
    },
    {
      "cell_type": "code",
      "execution_count": 13,
      "metadata": {
        "id": "dAvJkCglBHAX"
      },
      "outputs": [],
      "source": [
        "y=df.FlagImpaye"
      ]
    },
    {
      "cell_type": "code",
      "execution_count": 14,
      "metadata": {
        "id": "u9yH27RYBKTD"
      },
      "outputs": [],
      "source": [
        "y=y.astype(int)"
      ]
    },
    {
      "cell_type": "code",
      "execution_count": 15,
      "metadata": {
        "id": "X-cZdp3nBMQ1"
      },
      "outputs": [],
      "source": [
        "df.drop(columns=[\"FlagImpaye\",\"DateTransaction\"],inplace=True)"
      ]
    },
    {
      "cell_type": "code",
      "execution_count": 16,
      "metadata": {
        "id": "iqpe0IdZBM8m"
      },
      "outputs": [],
      "source": [
        "df[\"ScoringFP1\"]=df[\"ScoringFP1\"].replace(',', '.', regex=True)\n",
        "df[\"ScoringFP2\"]=df[\"ScoringFP2\"].replace(',', '.', regex=True)\n",
        "df[\"ScoringFP3\"]=df[\"ScoringFP3\"].replace(',', '.', regex=True)\n",
        "df[\"Montant\"]=df[\"Montant\"].replace(',', '.', regex=True)\n",
        "df[\"TauxImpNb_RB\"]=df[\"TauxImpNb_RB\"].replace(',', '.', regex=True)\n",
        "df[\"TauxImpNB_CPM\"]=df[\"TauxImpNB_CPM\"].replace(',', '.', regex=True)\n",
        "df[\"DiffDateTr1\"]=df[\"DiffDateTr1\"].replace(',', '.', regex=True)\n",
        "df[\"DiffDateTr2\"]=df[\"DiffDateTr2\"].replace(',', '.', regex=True)\n",
        "df[\"DiffDateTr3\"]=df[\"DiffDateTr3\"].replace(',', '.', regex=True)\n",
        "df[\"CA3TRetMtt\"]=df[\"CA3TRetMtt\"].replace(',', '.', regex=True)\n",
        "df[\"CA3TR\"]=df[\"CA3TR\"].replace(',', '.', regex=True)"
      ]
    },
    {
      "cell_type": "code",
      "execution_count": 17,
      "metadata": {
        "id": "x2w37BLLOvkj"
      },
      "outputs": [],
      "source": [
        "df[\"ScoringFP1\"]=df[\"ScoringFP1\"].astype(float)\n",
        "df[\"ScoringFP2\"]=df[\"ScoringFP2\"].astype(float)\n",
        "df[\"ScoringFP3\"]=df[\"ScoringFP3\"].astype(float)\n",
        "df[\"Montant\"]=df[\"Montant\"].astype(float)\n",
        "df[\"TauxImpNb_RB\"]=df[\"TauxImpNb_RB\"].astype(float)\n",
        "df[\"TauxImpNB_CPM\"]=df[\"TauxImpNB_CPM\"].astype(float)\n",
        "df[\"DiffDateTr1\"]=df[\"DiffDateTr1\"].astype(float)\n",
        "df[\"DiffDateTr2\"]=df[\"DiffDateTr2\"].astype(float)\n",
        "df[\"DiffDateTr3\"]=df[\"DiffDateTr3\"].astype(float)\n",
        "df[\"CA3TRetMtt\"]=df[\"CA3TRetMtt\"].astype(float)\n",
        "df[\"CA3TR\"]=df[\"CA3TR\"].astype(float)\n",
        "df[\"VerifianceCPT1\"]=df[\"VerifianceCPT1\"].astype(bool)\n",
        "df[\"VerifianceCPT2\"]=df[\"VerifianceCPT2\"].astype(bool)\n",
        "df[\"VerifianceCPT3\"]=df[\"VerifianceCPT3\"].astype(bool)\n",
        "df[\"IDAvisAutorisationCheque\"]=df[\"IDAvisAutorisationCheque\"].astype(float)\n",
        "df[\"EcartNumCheq\"]=df[\"EcartNumCheq\"].astype(bool)\n",
        "df[\"NbrMagasin3J\"]=df[\"NbrMagasin3J\"].astype(bool)\n",
        "df[\"D2CB\"]=df[\"D2CB\"].astype(float)"
      ]
    },
    {
      "cell_type": "code",
      "execution_count": 18,
      "metadata": {
        "id": "WuIxI9JnBSF0"
      },
      "outputs": [
        {
          "data": {
            "text/plain": [
              "IDAvisAutorisationCheque    float64\n",
              "Montant                     float64\n",
              "VerifianceCPT1                 bool\n",
              "VerifianceCPT2                 bool\n",
              "VerifianceCPT3                 bool\n",
              "D2CB                        float64\n",
              "ScoringFP1                  float64\n",
              "ScoringFP2                  float64\n",
              "ScoringFP3                  float64\n",
              "TauxImpNb_RB                float64\n",
              "TauxImpNB_CPM               float64\n",
              "EcartNumCheq                   bool\n",
              "NbrMagasin3J                   bool\n",
              "DiffDateTr1                 float64\n",
              "DiffDateTr2                 float64\n",
              "DiffDateTr3                 float64\n",
              "CA3TRetMtt                  float64\n",
              "CA3TR                       float64\n",
              "Heure                         int32\n",
              "Année                         int32\n",
              "Mois                          int32\n",
              "Jour                          int32\n",
              "Minute                        int32\n",
              "Seconde                       int32\n",
              "dtype: object"
            ]
          },
          "execution_count": 18,
          "metadata": {},
          "output_type": "execute_result"
        }
      ],
      "source": [
        "df.dtypes"
      ]
    },
    {
      "cell_type": "code",
      "execution_count": 19,
      "metadata": {
        "id": "n8o17A3pBs7M"
      },
      "outputs": [
        {
          "name": "stdout",
          "output_type": "stream",
          "text": [
            "FlagImpaye\n",
            "0    4616778\n",
            "1      29995\n",
            "Name: count, dtype: int64\n"
          ]
        },
        {
          "data": {
            "text/plain": [
              "0.6496955235880955"
            ]
          },
          "execution_count": 19,
          "metadata": {},
          "output_type": "execute_result"
        }
      ],
      "source": [
        "print(y.value_counts())\n",
        "neg, pos = y.value_counts()\n",
        "pourcentage = pos / neg *100\n",
        "pourcentage"
      ]
    },
    {
      "cell_type": "code",
      "execution_count": 20,
      "metadata": {
        "id": "RgawYQUyBvB4"
      },
      "outputs": [
        {
          "data": {
            "text/plain": [
              "153.9182530421737"
            ]
          },
          "execution_count": 20,
          "metadata": {},
          "output_type": "execute_result"
        }
      ],
      "source": [
        "neg/pos ## valeur pour le futur weight_class"
      ]
    },
    {
      "cell_type": "markdown",
      "metadata": {
        "id": "wFkWxV_yCF9r"
      },
      "source": [
        "## Cost sensitive avec XGBoost"
      ]
    },
    {
      "cell_type": "code",
      "execution_count": 21,
      "metadata": {
        "id": "NYpgo3LQCKUS"
      },
      "outputs": [],
      "source": [
        "from xgboost import XGBClassifier\n",
        "from sklearn.model_selection import GridSearchCV\n",
        "from sklearn.model_selection import train_test_split\n",
        "from sklearn.model_selection import RepeatedStratifiedKFold\n",
        "\n",
        "X_train, X_test, y_train, y_test = train_test_split(df, y, test_size=0.2, random_state=42)\n",
        "\n"
      ]
    },
    {
      "cell_type": "code",
      "execution_count": 29,
      "metadata": {
        "id": "9mJqFeobQABY"
      },
      "outputs": [],
      "source": [
        "model = XGBClassifier()\n",
        "\n",
        "weights = [1, 99, 100, 125, 153, 154]\n",
        "param_grid = dict(scale_pos_weight=weights)\n",
        "\n",
        "grid = GridSearchCV(estimator=model, param_grid=param_grid, n_jobs=-1, cv=5, scoring='f1')\n",
        "\n",
        "grid_result = grid.fit(X_train, y_train)"
      ]
    },
    {
      "cell_type": "code",
      "execution_count": 30,
      "metadata": {},
      "outputs": [
        {
          "name": "stdout",
          "output_type": "stream",
          "text": [
            "Best: 0.110288 using {'scale_pos_weight': 1}\n",
            "0.110288 (0.007129) with: {'scale_pos_weight': 1}\n",
            "0.057782 (0.000434) with: {'scale_pos_weight': 99}\n",
            "0.056887 (0.000263) with: {'scale_pos_weight': 100}\n",
            "0.048971 (0.000286) with: {'scale_pos_weight': 125}\n",
            "0.042807 (0.000306) with: {'scale_pos_weight': 153}\n",
            "0.042660 (0.000382) with: {'scale_pos_weight': 154}\n"
          ]
        }
      ],
      "source": [
        "print(\"Best: %f using %s\" % (grid_result.best_score_, grid_result.best_params_)) \n",
        "means = grid_result.cv_results_['mean_test_score']\n",
        "stds = grid_result.cv_results_['std_test_score']\n",
        "params = grid_result.cv_results_['params']\n",
        "for mean, stdev, param in zip(means, stds, params):\n",
        "    print(\"%f (%f) with: %r\" % (mean, stdev, param))"
      ]
    },
    {
      "cell_type": "code",
      "execution_count": 31,
      "metadata": {},
      "outputs": [
        {
          "name": "stdout",
          "output_type": "stream",
          "text": [
            "0.13018811585547924\n"
          ]
        }
      ],
      "source": [
        "from sklearn.metrics import f1_score\n",
        "r = grid.predict(X_test)\n",
        "\n",
        "rf = f1_score(y_test, r)\n",
        "print(rf)"
      ]
    }
  ],
  "metadata": {
    "colab": {
      "provenance": []
    },
    "kernelspec": {
      "display_name": "Python 3",
      "name": "python3"
    },
    "language_info": {
      "codemirror_mode": {
        "name": "ipython",
        "version": 3
      },
      "file_extension": ".py",
      "mimetype": "text/x-python",
      "name": "python",
      "nbconvert_exporter": "python",
      "pygments_lexer": "ipython3",
      "version": "3.12.1"
    }
  },
  "nbformat": 4,
  "nbformat_minor": 0
}
